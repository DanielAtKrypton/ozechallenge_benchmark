{
 "cells": [
  {
   "cell_type": "code",
   "execution_count": null,
   "metadata": {},
   "outputs": [],
   "source": [
    "import datetime\n",
    "\n",
    "import numpy as np\n",
    "import pandas as pd\n",
    "from matplotlib import pyplot as plt\n",
    "from tqdm import tqdm\n",
    "import torch\n",
    "import torch.nn as nn\n",
    "import torch.optim as optim\n",
    "from torch.utils.data import DataLoader\n",
    "\n",
    "from src.dataset import OzeDataset, OzeEvaluationDataset, OzeNPZDataset\n",
    "from src.utils import npz_check\n",
    "from src.model import BenchmarkLSTM\n",
    "from time_series_transformer import Transformer"
   ]
  },
  {
   "cell_type": "markdown",
   "metadata": {},
   "source": [
    "# Parameters"
   ]
  },
  {
   "cell_type": "code",
   "execution_count": null,
   "metadata": {},
   "outputs": [],
   "source": [
    "BATCH_SIZE = 4\n",
    "NUM_WORKERS = 4\n",
    "LR = 1e-2\n",
    "EPOCHS = 5\n",
    "HIDDEN_DIM = 100\n",
    "\n",
    "# LSTM exclusive architecture\n",
    "NUM_LAYERS = 3\n",
    "\n",
    "# net_type = \"transformer\"\n",
    "net_type = \"lstm\"\n",
    "\n",
    "# device = torch.device(\"cpu\")\n",
    "device = torch.device(\"cuda:0\" if torch.cuda.is_available() else \"cpu\")\n",
    "print(f\"Using device {device}\")"
   ]
  },
  {
   "cell_type": "markdown",
   "metadata": {},
   "source": [
    "# Train the benchmark"
   ]
  },
  {
   "cell_type": "markdown",
   "metadata": {},
   "source": [
    "### Load the dataset"
   ]
  },
  {
   "cell_type": "code",
   "execution_count": null,
   "metadata": {},
   "outputs": [],
   "source": [
    "dataset = OzeNPZDataset(dataset_path=npz_check(\"datasets\", \"dataset\"), labels_path=\"labels.json\")\n",
    "# dataset = OzeDataset(dataset_x_path=\"datasets/x_train_LsAZgHU.csv\", dataset_y_path=\"datasets/y_train_EFo1WyE.csv\", labels_path=\"labels.json\")\n",
    "K = dataset.get_x_shape()[1]\n",
    "\n",
    "dataloader = DataLoader(dataset,\n",
    "                        batch_size=BATCH_SIZE,\n",
    "                        shuffle=True,\n",
    "                        num_workers=NUM_WORKERS)\n",
    "\n",
    "m, M = dataloader.dataset.m, dataloader.dataset.M"
   ]
  },
  {
   "cell_type": "markdown",
   "metadata": {},
   "source": [
    "### Load the network"
   ]
  },
  {
   "cell_type": "code",
   "execution_count": null,
   "metadata": {},
   "outputs": [],
   "source": [
    "d_input = dataset.get_x_shape()[2]  # From dataset\n",
    "d_output = dataset.get_y_shape()[2]  # From dataset\n",
    "D_MODEL = HIDDEN_DIM\n",
    "if net_type == \"lstm\":\n",
    "# Load benchmark network with Adam optimizer and MSE loss function\n",
    "    net = BenchmarkLSTM(input_dim=d_input, hidden_dim=D_MODEL, output_dim=d_output, num_layers=NUM_LAYERS).to(device)\n",
    "elif net_type == \"transformer\":\n",
    "    # Model parameters\n",
    "    Q = 8 # Query size\n",
    "    V = 8 # Value size\n",
    "    H = 8 # Number of heads\n",
    "    N = 4 # Number of encoder and decoder to stack\n",
    "    ATTENTION_SIZE = 12 # Attention window size\n",
    "    DROPOUT = 0.2 # Dropout rate\n",
    "    PE = None # Positional encoding\n",
    "    CHUNK_MODE = None\n",
    "    net = Transformer(d_input, D_MODEL, d_output, Q, V, H, N, attention_size=ATTENTION_SIZE, dropout=DROPOUT, chunk_mode=CHUNK_MODE, pe=PE).to(device)\n",
    "optimizer = optim.Adam(net.parameters(), lr=LR)\n",
    "loss_function = nn.MSELoss()"
   ]
  },
  {
   "cell_type": "markdown",
   "metadata": {},
   "source": [
    "### Train the network"
   ]
  },
  {
   "cell_type": "code",
   "execution_count": null,
   "metadata": {},
   "outputs": [],
   "source": [
    "model_save_path = f'model_{datetime.datetime.now().strftime(\"%Y_%m_%d__%H%M%S\")}.pth'\n",
    "train_loss_best = np.inf\n",
    "\n",
    "# Prepare loss history\n",
    "hist_loss = np.zeros(EPOCHS)\n",
    "for idx_epoch in range(EPOCHS):\n",
    "    running_loss = 0\n",
    "    with tqdm(total=len(dataloader.dataset), desc=f\"[Epoch {idx_epoch+1:3d}/{EPOCHS}]\") as pbar:\n",
    "        for idx_batch, (x, y) in enumerate(dataloader):\n",
    "            optimizer.zero_grad()\n",
    "\n",
    "            # Propagate input\n",
    "            netout = net(x.to(device))\n",
    "\n",
    "            # Compute loss\n",
    "            loss = loss_function(y.to(device), netout)\n",
    "\n",
    "            # Backpropagate loss\n",
    "            loss.backward()\n",
    "\n",
    "            # Update weights\n",
    "            optimizer.step()\n",
    "\n",
    "            running_loss += loss.item()\n",
    "            pbar.set_postfix({'loss': running_loss/(idx_batch+1)})\n",
    "            pbar.update(x.shape[0])\n",
    "\n",
    "        train_loss = running_loss/len(dataloader)\n",
    "        pbar.set_postfix({'loss': train_loss})\n",
    "\n",
    "        hist_loss[idx_epoch] = train_loss\n",
    "\n",
    "        if train_loss < train_loss_best:\n",
    "            train_loss_best = train_loss\n",
    "            torch.save(net.state_dict(), model_save_path)\n",
    "\n",
    "plt.plot(hist_loss, 'o-', label='train')\n",
    "plt.legend()\n",
    "print(f\"model exported to {model_save_path} with loss {train_loss_best:5f}\")"
   ]
  },
  {
   "cell_type": "markdown",
   "metadata": {},
   "source": [
    "### Plot the results for a training example"
   ]
  },
  {
   "cell_type": "code",
   "execution_count": null,
   "metadata": {},
   "outputs": [],
   "source": [
    "# Select training example\n",
    "idx = np.random.randint(0, len(dataloader.dataset))\n",
    "x, y = dataloader.dataset[idx]\n",
    "\n",
    "# Run predictions\n",
    "with torch.no_grad():\n",
    "    x = torch.Tensor(x[np.newaxis, :, :])\n",
    "    netout = net(x.to(device)).cpu().numpy()\n",
    "\n",
    "plt.figure(figsize=(30, 30))\n",
    "for idx_output_var in range(d_output):\n",
    "    # Select real temperature\n",
    "    y_true = y[:, idx_output_var]\n",
    "\n",
    "    y_pred = netout[0, :, idx_output_var]\n",
    "\n",
    "    plt.subplot(d_output, 1, idx_output_var+1)\n",
    "    \n",
    "    plt.plot(y_true, label=\"Truth\")\n",
    "    plt.plot(y_pred, label=\"Prediction\")\n",
    "    plt.title(dataloader.dataset.labels[\"X\"][idx_output_var])\n",
    "    plt.legend()\n",
    "plt.savefig(\"fig\")"
   ]
  },
  {
   "cell_type": "markdown",
   "metadata": {},
   "source": [
    "# Evaluation"
   ]
  },
  {
   "cell_type": "markdown",
   "metadata": {},
   "source": [
    "### Load evaluation dataset"
   ]
  },
  {
   "cell_type": "code",
   "execution_count": null,
   "metadata": {},
   "outputs": [],
   "source": [
    "dataset_eval = OzeEvaluationDataset(dataset_x_path=\"datasets/x_test_QK7dVsy.csv\", labels_path=\"labels.json\")\n",
    "dataset_eval_length = len(dataset_eval)"
   ]
  },
  {
   "cell_type": "markdown",
   "metadata": {},
   "source": [
    "### Run prediction"
   ]
  },
  {
   "cell_type": "code",
   "execution_count": null,
   "metadata": {},
   "outputs": [],
   "source": [
    "predictions = np.zeros((dataset_eval_length, K, d_output))\n",
    "with torch.no_grad():\n",
    "    for idx, line in tqdm(enumerate(dataset_eval), total=dataset_eval_length):\n",
    "        # Run prediction\n",
    "        netout = net(torch.Tensor(line[np.newaxis, :, :]).to(device)).cpu().numpy()\n",
    "        \n",
    "        # De-normalize output\n",
    "        output = netout * (M - m + np.finfo(float).eps) + m\n",
    "        predictions[idx] = output"
   ]
  },
  {
   "cell_type": "markdown",
   "metadata": {},
   "source": [
    "### Export as csv"
   ]
  },
  {
   "cell_type": "code",
   "execution_count": null,
   "metadata": {},
   "outputs": [],
   "source": [
    "lines_output = predictions.reshape((dataset_eval_length, -1))\n",
    "csv_header = [f\"{var_name}_{k}\" for var_name in dataset_eval.labels['X'] for k in range(K)]\n",
    "\n",
    "pd.DataFrame(lines_output, columns=csv_header).to_csv(\"y_bench.csv\")"
   ]
  }
 ],
 "metadata": {
  "kernelspec": {
   "display_name": "Python 3.7.3 64-bit ('.env': virtualenv)",
   "language": "python",
   "name": "python37364bitenvvirtualenv586a00a4f05a4bbead98afb1e2268031"
  },
  "language_info": {
   "codemirror_mode": {
    "name": "ipython",
    "version": 3
   },
   "file_extension": ".py",
   "mimetype": "text/x-python",
   "name": "python",
   "nbconvert_exporter": "python",
   "pygments_lexer": "ipython3",
   "version": "3.7.3-final"
  }
 },
 "nbformat": 4,
 "nbformat_minor": 4
}