{
 "cells": [
  {
   "cell_type": "markdown",
   "metadata": {},
   "source": [
    "# Benchmark main Jupyter notebook"
   ]
  },
  {
   "cell_type": "markdown",
   "metadata": {},
   "source": [
    "## Imports"
   ]
  },
  {
   "cell_type": "code",
   "execution_count": null,
   "metadata": {},
   "outputs": [],
   "source": [
    "from pathlib import Path\n",
    "\n",
    "import numpy as np\n",
    "import pandas as pd\n",
    "from matplotlib import pyplot as plt\n",
    "from tqdm import tqdm\n",
    "from tst.loss import OZELoss\n",
    "\n",
    "from src.dataset import OzeEvaluationDataset, OzeNPZDataset\n",
    "from src.lstm_tsp import LSTMTimeSeriesPredictor\n",
    "from src.transformer_tsp import TransformerTimeSeriesPredictor\n",
    "from src.utils import npz_check"
   ]
  },
  {
   "cell_type": "markdown",
   "metadata": {},
   "source": [
    "## Construct and configure the time series predictor"
   ]
  },
  {
   "cell_type": "code",
   "execution_count": null,
   "metadata": {},
   "outputs": [],
   "source": [
    "tsp = LSTMTimeSeriesPredictor()\n",
    "# tsp = TransformerTimeSeriesPredictor()"
   ]
  },
  {
   "cell_type": "markdown",
   "metadata": {},
   "source": [
    "## Load the dataset"
   ]
  },
  {
   "cell_type": "code",
   "execution_count": null,
   "metadata": {},
   "outputs": [],
   "source": [
    "dataset = OzeNPZDataset(dataset_path=npz_check(Path('datasets'), 'dataset'), labels_path=\"labels.json\")"
   ]
  },
  {
   "cell_type": "markdown",
   "metadata": {},
   "source": [
    "## Train the benchmark"
   ]
  },
  {
   "cell_type": "code",
   "execution_count": null,
   "metadata": {},
   "outputs": [],
   "source": [
    "hist_loss = tsp.fit(dataset, loss_function=OZELoss(alpha=0.3))"
   ]
  },
  {
   "cell_type": "markdown",
   "metadata": {},
   "source": [
    "### Plot the results for a training example"
   ]
  },
  {
   "cell_type": "code",
   "execution_count": null,
   "metadata": {},
   "outputs": [],
   "source": [
    "# Select training example\n",
    "idx = np.random.randint(0, len(tsp.dataloader.dataset))\n",
    "x, y = tsp.dataloader.dataset[idx]\n",
    "\n",
    "# Run predictions\n",
    "netout = tsp.predict(x)\n",
    "\n",
    "plt.figure(figsize=(30, 30))\n",
    "d_output = netout.shape[2]\n",
    "for idx_output_var in range(d_output):\n",
    "    # Select real temperature\n",
    "    y_true = y[:, idx_output_var]\n",
    "\n",
    "    y_pred = netout[0, :, idx_output_var]\n",
    "\n",
    "    plt.subplot(d_output, 1, idx_output_var+1)\n",
    "    \n",
    "    plt.plot(y_true, label=\"Truth\")\n",
    "    plt.plot(y_pred, label=\"Prediction\")\n",
    "    plt.title(tsp.dataloader.dataset.labels[\"X\"][idx_output_var])\n",
    "    plt.legend()\n",
    "plt.savefig(\"fig\")"
   ]
  },
  {
   "cell_type": "markdown",
   "metadata": {},
   "source": [
    "# Evaluation"
   ]
  },
  {
   "cell_type": "markdown",
   "metadata": {},
   "source": [
    "### Load evaluation dataset"
   ]
  },
  {
   "cell_type": "code",
   "execution_count": null,
   "metadata": {},
   "outputs": [],
   "source": [
    "K = dataset.time_series_length\n",
    "dataset_eval = OzeEvaluationDataset(\"datasets/x_test_QK7dVsy.csv\", K, labels_path=\"labels.json\")\n",
    "dataset_eval_length = len(dataset_eval)"
   ]
  },
  {
   "cell_type": "markdown",
   "metadata": {},
   "source": [
    "### Run prediction"
   ]
  },
  {
   "cell_type": "code",
   "execution_count": null,
   "metadata": {},
   "outputs": [],
   "source": [
    "predictions = np.zeros((dataset_eval_length, K, d_output))\n",
    "m, M = tsp.dataloader.dataset.m, tsp.dataloader.dataset.M\n",
    "for idx, line in tqdm(enumerate(dataset_eval), total=dataset_eval_length):\n",
    "    # Run prediction\n",
    "    netout = tsp.predict(line)\n",
    "\n",
    "    # De-normalize output\n",
    "    output = netout * (M - m + np.finfo(float).eps) + m\n",
    "    predictions[idx] = output"
   ]
  },
  {
   "cell_type": "markdown",
   "metadata": {},
   "source": [
    "### Export as csv"
   ]
  },
  {
   "cell_type": "code",
   "execution_count": null,
   "metadata": {},
   "outputs": [],
   "source": [
    "lines_output = predictions.reshape((dataset_eval_length, -1))\n",
    "csv_header = [f\"{var_name}_{k}\" for var_name in dataset_eval.labels['X'] for k in range(K)]\n",
    "\n",
    "df = pd.DataFrame(lines_output, columns=csv_header)\n",
    "df.insert(0, 'index', df.index + len(dataset))\n",
    "df.to_csv('y_bench.csv', index=False)"
   ]
  }
 ],
 "metadata": {
  "kernelspec": {
   "display_name": "Python 3.7.7 64-bit ('.env': venv)",
   "language": "python",
   "name": "python37764bitenvvenv116419db351b411e94cae4dee0dd3a78"
  },
  "language_info": {
   "codemirror_mode": {
    "name": "ipython",
    "version": 3
   },
   "file_extension": ".py",
   "mimetype": "text/x-python",
   "name": "python",
   "nbconvert_exporter": "python",
   "pygments_lexer": "ipython3",
   "version": "3.7.7-final"
  }
 },
 "nbformat": 4,
 "nbformat_minor": 4
}